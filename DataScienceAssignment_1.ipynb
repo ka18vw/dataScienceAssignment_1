{
 "cells": [
  {
   "cell_type": "code",
   "execution_count": 6,
   "id": "4f9165c5",
   "metadata": {},
   "outputs": [
    {
     "name": "stdout",
     "output_type": "stream",
     "text": [
      "479001600\n"
     ]
    }
   ],
   "source": [
    "#QUESTION 1 :\n",
    "\n",
    "number = 1\n",
    "i = 1 \n",
    "\n",
    "while(number <= 10**8):\n",
    "    number = number * i #the next two lines multiply the consecutive number to get a value greater or equal to 10^8\n",
    "    i = i+1 \n",
    "\n",
    "print(number)\n"
   ]
  },
  {
   "cell_type": "code",
   "execution_count": 9,
   "id": "01355002",
   "metadata": {},
   "outputs": [
    {
     "name": "stdout",
     "output_type": "stream",
     "text": [
      "{'Banana': 6, 'Pineapple': 9, 'Grapefruit': 10, 'Mango': 5}\n"
     ]
    }
   ],
   "source": [
    "#QUESTION 2 :\n",
    "\n",
    "def get_dict(ListOfStrings): \n",
    "    stringData = {}                      #dict command stores the string that was added\n",
    "    \n",
    "    for string in ListOfStrings:\n",
    "        stringData[string] = len(string) #the string here is the key and the length as the value\n",
    "        \n",
    "    return stringData\n",
    " \n",
    "ListOfStrings = ['Banana', 'Pineapple', 'Grapefruit', 'Mango']\n",
    "print (get_dict(ListOfStrings))\n"
   ]
  },
  {
   "cell_type": "code",
   "execution_count": 11,
   "id": "88f886b2",
   "metadata": {},
   "outputs": [
    {
     "name": "stdout",
     "output_type": "stream",
     "text": [
      "15625\n",
      "78125\n",
      "16\n",
      "729\n",
      "43046721\n",
      "1\n",
      "729\n",
      "7\n",
      "625\n",
      "128\n",
      "9\n",
      "729\n",
      "32\n"
     ]
    }
   ],
   "source": [
    "#QUESTION 3 :\n",
    "\n",
    "l = [[5,6], [5,7], [4,2], [3,6], [9,8], [1,3], [9,3], [7,1], [5,4], [2,7],\n",
    "[9,1], [9,3], [2,5]]                       #the list given in question\n",
    "\n",
    "def exponent(x,y):                         #this exponent defines x^y and will return the argument\n",
    "    return (x**y)\n",
    "\n",
    "for i in l : \n",
    "    finalResult = exponent(i[0],i[1])      #after defining the function exponent, the for loop will call the function \n",
    "    print(finalResult)             #the for loop will take numbers from the list l and apply to the exponent function"
   ]
  },
  {
   "cell_type": "code",
   "execution_count": 34,
   "id": "429c5f69",
   "metadata": {},
   "outputs": [
    {
     "data": {
      "text/plain": [
       "11"
      ]
     },
     "execution_count": 34,
     "metadata": {},
     "output_type": "execute_result"
    }
   ],
   "source": [
    "#QUESTION 4 :\n",
    "\n",
    "from random import random\n",
    "\n",
    "l = [random() for i in range(20)]\n",
    "x = random()\n",
    "\n",
    "l.sort(reverse = False)    #sorts the random list of 20 values between (0,1)\n",
    "\n",
    "def firstElement(l,x):     #this function and for loop to find the index in list l that is greater than x\n",
    "    for i in l:\n",
    "        if i >= x : return l.index(i)  \n",
    "firstElement(l,x)          #this will show the index of the element"
   ]
  },
  {
   "cell_type": "code",
   "execution_count": 29,
   "id": "3c916e58",
   "metadata": {},
   "outputs": [
    {
     "name": "stdout",
     "output_type": "stream",
     "text": [
      "85.20710059171599\n"
     ]
    }
   ],
   "source": [
    "#QUESTION 5 :\n",
    "\n",
    "def coveragePercent(radius_1,radius_2):\n",
    "    radius_1 = int(radius_1)          #converting the radii to integer values\n",
    "    radius_2 = int(radius_2)\n",
    "    area_1 = 3.14 * radius_1**2       #formula of area of a circl is pi * r^2\n",
    "    area_2 = 3.14 * radius_2**2\n",
    "    \n",
    "    if (area_1 > area_2):             #if loop calls for comparison in area\n",
    "        return ((area_2/area_1)*100)  #will give the percentage of the smaller area that covers the bigger circle\n",
    "    else:\n",
    "        return((area_1/area_2)*100)\n",
    "    return coveragePercent\n",
    "\n",
    "print(coveragePercent(13,12))         #test values 13 and 12."
   ]
  },
  {
   "cell_type": "code",
   "execution_count": 7,
   "id": "aa4885e0",
   "metadata": {},
   "outputs": [
    {
     "data": {
      "text/plain": [
       "{5: 0.2, 8: 0.4, 10: 0.6, 15: 0.8, 23: 1.0}"
      ]
     },
     "execution_count": 7,
     "metadata": {},
     "output_type": "execute_result"
    }
   ],
   "source": [
    "#QUESTION 6 :\n",
    "\n",
    "#function to get number of elements less than the current key of dict\n",
    "def proportionOfElements(item,listOfNumbers): \n",
    "    count = 0                                 #to count the number of elements less than or equal to the key\n",
    "    for element in listOfNumbers:\n",
    "        if element <= item:\n",
    "            count = count + 1\n",
    "    return (count/len(listOfNumbers))         #formula for porportion = count of element/ (length of the list)\n",
    "\n",
    "def keyOfDict(listOfNumbers):\n",
    "        dataOfDict = {}                       #to store the key of dict\n",
    "        for item in listOfNumbers:\n",
    "            dataOfDict[item] = proportionOfElements(item, listOfNumbers) #keys are the values of the listed elements\n",
    "        return(dataOfDict)\n",
    "    \n",
    "#calling the function:\n",
    "listOfNumbers = [5,8,10,15,23]\n",
    "keyOfDict(listOfNumbers)"
   ]
  },
  {
   "cell_type": "code",
   "execution_count": 16,
   "id": "af9bb36e",
   "metadata": {},
   "outputs": [
    {
     "name": "stdout",
     "output_type": "stream",
     "text": [
      "26 41 36 PM\n",
      "It has been more than a day!\n",
      "6 23 42 AM\n"
     ]
    }
   ],
   "source": [
    "#QUESTION 7 :\n",
    "\n",
    "#function to get seconds past from the day\n",
    "def hourMinutesSeconds(seconds):\n",
    "    hour = seconds//3600     #1h = 3600 sec, 1min = 60 sec, and seconds is mod of seconds with 3600 and with 60\n",
    "    seconds = seconds%3600\n",
    "    minutes = seconds//60\n",
    "    seconds = seconds%60\n",
    "    return hour, minutes, seconds\n",
    "\n",
    "#two examples below:8 \n",
    "h, m, s = hourMinutesSeconds(96096) #gives the hour, minute and seconds past\n",
    "if h < 13:\n",
    "    print(h, m, s, \"AM\")\n",
    "else:\n",
    "    print(h, m, s, \"PM\")\n",
    "    print(\"It has been more than a day!\") #prints: it has been more than 24 hours aka a day\n",
    "\n",
    "h, m, s = hourMinutesSeconds(23022)\n",
    "if h < 13:\n",
    "    print(h, m, s, \"AM\")\n",
    "else:\n",
    "    print(h, m, s, \"PM\")\n",
    "    print(\"It has been more than a day!\")\n",
    "    \n",
    "    "
   ]
  },
  {
   "cell_type": "code",
   "execution_count": 9,
   "id": "037ca688",
   "metadata": {},
   "outputs": [
    {
     "name": "stdout",
     "output_type": "stream",
     "text": [
      " A   B   C\n",
      " 1 3.1 800\n",
      " 2 4.2 150\n",
      " 2 1.5 400\n",
      " 1 6.3 210\n"
     ]
    }
   ],
   "source": [
    "#QUESTION 8 :\n",
    "import pandas as pd\n",
    "data = {'A' : [1, 2, 2, 1], 'B' : [3.1, 4.2, 1.5, 6.3], 'C' : [800, 150, 400, 210]} #data is the dictionary\n",
    "df = pd.DataFrame(data)       #adding the data to the Data Frame\n",
    "df=df.to_string(index=False)  #store the data without index\n",
    "\n",
    "print(df)"
   ]
  }
 ],
 "metadata": {
  "kernelspec": {
   "display_name": "Python 3 (ipykernel)",
   "language": "python",
   "name": "python3"
  },
  "language_info": {
   "codemirror_mode": {
    "name": "ipython",
    "version": 3
   },
   "file_extension": ".py",
   "mimetype": "text/x-python",
   "name": "python",
   "nbconvert_exporter": "python",
   "pygments_lexer": "ipython3",
   "version": "3.9.12"
  }
 },
 "nbformat": 4,
 "nbformat_minor": 5
}
